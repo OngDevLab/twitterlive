{
 "cells": [
  {
   "cell_type": "markdown",
   "id": "82201ff3-afa8-4754-84a0-c07e5d2c7eee",
   "metadata": {},
   "source": [
    "# Twitter basic OLS analysis"
   ]
  },
  {
   "cell_type": "code",
   "execution_count": 3,
   "id": "600de311-e302-4c7d-b83b-0ac083c41acd",
   "metadata": {
    "tags": []
   },
   "outputs": [],
   "source": [
    "import pandas as pd\n",
    "import statsmodels.formula.api as sm"
   ]
  },
  {
   "cell_type": "code",
   "execution_count": 4,
   "id": "6da3767e-b9ee-426e-8577-935e64223048",
   "metadata": {
    "tags": []
   },
   "outputs": [],
   "source": [
    "#import tweet data\n",
    "tweet_data = pd.read_csv(\"tweet_activity_metrics_OngDevLab_20240202_20240301_en.csv\")"
   ]
  },
  {
   "cell_type": "code",
   "execution_count": 11,
   "id": "539d1c96-24d0-481d-9b3c-9ca83e70e857",
   "metadata": {
    "tags": []
   },
   "outputs": [
    {
     "data": {
      "text/plain": [
       "Index(['Tweet id', 'Tweet permalink', 'Tweet text', 'time', 'impressions',\n",
       "       'engagements', 'engagement rate', 'retweets', 'replies', 'likes',\n",
       "       'user profile clicks', 'url clicks', 'hashtag clicks', 'detail expands',\n",
       "       'permalink clicks', 'app opens', 'app installs', 'follows',\n",
       "       'email tweet', 'dial phone', 'media views', 'media engagements',\n",
       "       'promoted impressions', 'promoted engagements',\n",
       "       'promoted engagement rate', 'promoted retweets', 'promoted replies',\n",
       "       'promoted likes', 'promoted user profile clicks', 'promoted url clicks',\n",
       "       'promoted hashtag clicks', 'promoted detail expands',\n",
       "       'promoted permalink clicks', 'promoted app opens',\n",
       "       'promoted app installs', 'promoted follows', 'promoted email tweet',\n",
       "       'promoted dial phone', 'promoted media views',\n",
       "       'promoted media engagements'],\n",
       "      dtype='object')"
      ]
     },
     "execution_count": 11,
     "metadata": {},
     "output_type": "execute_result"
    }
   ],
   "source": [
    "#display(tweet_data)\n",
    "tweet_data.columns"
   ]
  },
  {
   "cell_type": "code",
   "execution_count": 18,
   "id": "28f7de93-31ab-4495-a8fb-9844db8fe5eb",
   "metadata": {
    "tags": []
   },
   "outputs": [
    {
     "name": "stdout",
     "output_type": "stream",
     "text": [
      "Intercept    140.066608\n",
      "replies      143.202590\n",
      "dtype: float64\n",
      "                            OLS Regression Results                            \n",
      "==============================================================================\n",
      "Dep. Variable:            impressions   R-squared:                       0.889\n",
      "Model:                            OLS   Adj. R-squared:                  0.889\n",
      "Method:                 Least Squares   F-statistic:                 2.588e+04\n",
      "Date:                Thu, 29 Feb 2024   Prob (F-statistic):               0.00\n",
      "Time:                        13:32:36   Log-Likelihood:                -28890.\n",
      "No. Observations:                3240   AIC:                         5.778e+04\n",
      "Df Residuals:                    3238   BIC:                         5.780e+04\n",
      "Df Model:                           1                                         \n",
      "Covariance Type:            nonrobust                                         \n",
      "==============================================================================\n",
      "                 coef    std err          t      P>|t|      [0.025      0.975]\n",
      "------------------------------------------------------------------------------\n",
      "Intercept    140.0666     31.879      4.394      0.000      77.562     202.571\n",
      "replies      143.2026      0.890    160.879      0.000     141.457     144.948\n",
      "==============================================================================\n",
      "Omnibus:                     7555.837   Durbin-Watson:                   1.779\n",
      "Prob(Omnibus):                  0.000   Jarque-Bera (JB):        110035453.482\n",
      "Skew:                          22.295   Prob(JB):                         0.00\n",
      "Kurtosis:                     904.715   Cond. No.                         36.0\n",
      "==============================================================================\n",
      "\n",
      "Notes:\n",
      "[1] Standard Errors assume that the covariance matrix of the errors is correctly specified.\n"
     ]
    }
   ],
   "source": [
    "import pandas as pd\n",
    "import statsmodels.formula.api as sm\n",
    "\n",
    "# Define the formula and fit the model\n",
    "model = sm.ols(formula=\"impressions ~ replies\", data=tweet_data).fit()\n",
    "\n",
    "# Print the coefficients\n",
    "print(model.params)\n",
    "\n",
    "# Print the summary table\n",
    "print(model.summary())\n"
   ]
  },
  {
   "cell_type": "markdown",
   "id": "23522fb7-b84f-4808-985f-1d398374e781",
   "metadata": {},
   "source": [
    "## what you learn\n",
    "\n",
    "- replies help the most"
   ]
  },
  {
   "cell_type": "code",
   "execution_count": null,
   "id": "da391f2f-fc56-4520-a309-6cc308043c92",
   "metadata": {},
   "outputs": [],
   "source": []
  }
 ],
 "metadata": {
  "kernelspec": {
   "display_name": "Python 3 (ipykernel)",
   "language": "python",
   "name": "python3"
  },
  "language_info": {
   "codemirror_mode": {
    "name": "ipython",
    "version": 3
   },
   "file_extension": ".py",
   "mimetype": "text/x-python",
   "name": "python",
   "nbconvert_exporter": "python",
   "pygments_lexer": "ipython3",
   "version": "3.11.5"
  }
 },
 "nbformat": 4,
 "nbformat_minor": 5
}
